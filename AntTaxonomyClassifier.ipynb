{
  "nbformat": 4,
  "nbformat_minor": 0,
  "metadata": {
    "colab": {
      "name": "AntTaxonomyClassifier.ipynb",
      "provenance": [],
      "collapsed_sections": [],
      "authorship_tag": "ABX9TyPR1V5AjUizxsbVnCv4LM/A",
      "include_colab_link": true
    },
    "kernelspec": {
      "name": "python3",
      "display_name": "Python 3"
    }
  },
  "cells": [
    {
      "cell_type": "markdown",
      "metadata": {
        "id": "view-in-github",
        "colab_type": "text"
      },
      "source": [
        "<a href=\"https://colab.research.google.com/github/DulanDias/AntTaxonomyClassifier/blob/master/AntTaxonomyClassifier.ipynb\" target=\"_parent\"><img src=\"https://colab.research.google.com/assets/colab-badge.svg\" alt=\"Open In Colab\"/></a>"
      ]
    },
    {
      "cell_type": "markdown",
      "metadata": {
        "id": "n7VClrWUs57u",
        "colab_type": "text"
      },
      "source": [
        "## Ant Taxonomy Classifier\n",
        "\n",
        "Authored by Dulan S. Dias (dsdias@sjp.ac.lk) and Madhushi D. Welikala"
      ]
    },
    {
      "cell_type": "code",
      "metadata": {
        "id": "BfBUAqAotcju",
        "colab_type": "code",
        "colab": {}
      },
      "source": [
        "# Importing Necessary Packages\n",
        "import os\n",
        "import pandas as pd\n",
        "import numpy as np"
      ],
      "execution_count": 0,
      "outputs": []
    },
    {
      "cell_type": "markdown",
      "metadata": {
        "id": "eNf1308jtB9-",
        "colab_type": "text"
      },
      "source": [
        "#### 1. Loading the Data"
      ]
    },
    {
      "cell_type": "code",
      "metadata": {
        "id": "bAiKMgSRtCGw",
        "colab_type": "code",
        "colab": {}
      },
      "source": [
        ""
      ],
      "execution_count": 0,
      "outputs": []
    }
  ]
}